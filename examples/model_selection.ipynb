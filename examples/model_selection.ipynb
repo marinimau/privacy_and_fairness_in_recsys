{
 "cells": [
  {
   "cell_type": "markdown",
   "metadata": {},
   "source": [
    "# Tutorial 4.2 - Model Selection\n",
    "\n",
    "This tutorial is partially based on the Python Data Science Handbook by Jake VanderPlas and the Jupyter notebooks available on GitHub at https://jakevdp.github.io/PythonDataScienceHandbook/05.03-hyperparameters-and-model-validation.html. "
   ]
  },
  {
   "cell_type": "markdown",
   "metadata": {},
   "source": [
    "Choosing a class of model and the model hyperparameters are one of the most important parts for applying machine learning effectively. To make an informed choice, we need a way to validate that our model and our hyperparameters are a good fit to the data. While this may sound simple, there are some pitfalls that you must avoid to do this effectively.\n",
    "\n",
    "**Expected Tasks**\n",
    "\n",
    "- Follow the evaluation methods showcase.\n",
    "- Play with the different evaluation method variants. \n",
    "\n",
    "**Learning Objectives**\n",
    "\n",
    "- Choosing the right evaluation method metric according to your task and data. \n",
    "- Running an evaluation method in scikit-learn, given a certain evaluation method.\n",
    "- Fine-tuning the hyper-parameter values of a machine-learning model. \n",
    "\n",
    "**Notes**\n",
    "\n",
    "Evaluation methods are demonstrated in this notebook using small code recipes in Python and scikit-learn.\n",
    "\n",
    "More information on theevaluation methods supported by ScikitLearn are listed on the page [Model selection](https://scikit-learn.org/stable/model_selection.html). "
   ]
  },
  {
   "cell_type": "code",
   "execution_count": 1,
   "metadata": {},
   "outputs": [],
   "source": [
    "# Traditional packages\n",
    "import matplotlib.pyplot as plt\n",
    "import seaborn as sns\n",
    "import pandas as pd\n",
    "import numpy as np\n",
    "import math\n",
    "\n",
    "%matplotlib inline\n",
    "\n",
    "# Supporting packages\n",
    "from sklearn import datasets, metrics, model_selection, utils\n",
    "\n",
    "# Model packages\n",
    "from sklearn.ensemble import RandomForestClassifier\n",
    "from sklearn.neighbors import KNeighborsClassifier"
   ]
  },
  {
   "cell_type": "markdown",
   "metadata": {},
   "source": [
    "## Data Generation\n",
    "\n",
    "We will rely again on synthetic toy datasets. Please, note that information on synthetic data generation can be found in the [ScikitLearn documentation](https://scikit-learn.org/stable/modules/generated/sklearn.datasets.make_classification.html).  "
   ]
  },
  {
   "cell_type": "code",
   "execution_count": 2,
   "metadata": {},
   "outputs": [],
   "source": [
    "X, y = datasets.make_classification(n_samples=100, n_features=10, n_redundant=0, n_informative=10, class_sep=0.5)"
   ]
  },
  {
   "cell_type": "code",
   "execution_count": 4,
   "metadata": {},
   "outputs": [
    {
     "data": {
      "text/plain": "((100, 10), (100,))"
     },
     "execution_count": 4,
     "metadata": {},
     "output_type": "execute_result"
    }
   ],
   "source": [
    "X.shape, y.shape"
   ]
  },
  {
   "cell_type": "code",
   "execution_count": 5,
   "metadata": {},
   "outputs": [
    {
     "data": {
      "text/plain": "(49, 51)"
     },
     "execution_count": 5,
     "metadata": {},
     "output_type": "execute_result"
    }
   ],
   "source": [
    "list(y).count(0), list(y).count(1)"
   ]
  },
  {
   "cell_type": "markdown",
   "metadata": {},
   "source": [
    "## Evaluation Methods\n",
    "\n",
    "In principle, model validation is very simple: after choosing a model and its hyperparameters, we can estimate how effective it is by applying it to some of the training data and comparing the prediction to the known value. The following sections first show a naive approach to model validation and why it fails, before exploring the use of holdout sets, cross-validation, and bootstrapping for more robust model evaluation."
   ]
  },
  {
   "cell_type": "markdown",
   "metadata": {},
   "source": [
    "### Evaluation method the wrong way\n",
    "\n",
    "Let's demonstrate the naive approach to validation. Here we'll use a KNearestNeighbors classifier with n_neighbors=1. This is a very simple and intuitive model that says \"the label of an unknown point is the same as the label of its closest training point:\""
   ]
  },
  {
   "cell_type": "code",
   "execution_count": 5,
   "metadata": {},
   "outputs": [],
   "source": [
    "model = KNeighborsClassifier(n_neighbors=1)"
   ]
  },
  {
   "cell_type": "markdown",
   "metadata": {},
   "source": [
    "Then we train the model, and use it to predict labels for data we already know:"
   ]
  },
  {
   "cell_type": "code",
   "execution_count": 6,
   "metadata": {},
   "outputs": [],
   "source": [
    "model.fit(X, y)\n",
    "y_pred = model.predict(X)"
   ]
  },
  {
   "cell_type": "markdown",
   "metadata": {},
   "source": [
    "Finally, we compute the fraction of correctly labeled points:"
   ]
  },
  {
   "cell_type": "code",
   "execution_count": 7,
   "metadata": {},
   "outputs": [
    {
     "data": {
      "text/plain": [
       "1.0"
      ]
     },
     "execution_count": 7,
     "metadata": {},
     "output_type": "execute_result"
    }
   ],
   "source": [
    "metrics.accuracy_score(y, y_pred)"
   ]
  },
  {
   "cell_type": "markdown",
   "metadata": {},
   "source": [
    "We see an accuracy score of 1.0, which indicates that 100% of points were correctly labeled by our model! But is this truly measuring the expected accuracy? Have we really come upon a model that we expect to be correct 100% of the time? No, in fact, this approach trains and evaluates the model on the same data. Furthermore, the nearest neighbor model is an instance-based estimator that simply stores the training data, and predicts labels by comparing new data to these stored points: except in contrived cases, it will get 100% accuracy every time!"
   ]
  },
  {
   "cell_type": "markdown",
   "metadata": {},
   "source": [
    "### Evaluation methods the right way: holdout sets\n",
    "\n",
    "So what can be done? A better sense of a model's performance can be found using what's known as a holdout set: that is, we hold back some subset of the data from the training of the model, and then use this holdout set to test the model performance. This splitting can be done using the train_test_split function. \n",
    "\n",
    "Further information on the train_test_split can be found in the [scikit-learn documentation](https://scikit-learn.org/stable/modules/generated/sklearn.model_selection.train_test_split.html). In particular, we recommend you to analyze the meaning of \"stratify\" parameter, that is important when you deal with imbalanced classes. "
   ]
  },
  {
   "cell_type": "code",
   "execution_count": 8,
   "metadata": {},
   "outputs": [
    {
     "data": {
      "text/plain": [
       "0.74"
      ]
     },
     "execution_count": 8,
     "metadata": {},
     "output_type": "execute_result"
    }
   ],
   "source": [
    "X_train, X_test, y_train, y_test = model_selection.train_test_split(X, y, train_size=0.5) # .5 dfor didactive purposes\n",
    "model = KNeighborsClassifier(n_neighbors=1)\n",
    "model.fit(X_train, y_train)\n",
    "y_pred = model.predict(X_test)\n",
    "metrics.accuracy_score(y_test, y_pred)"
   ]
  },
  {
   "cell_type": "markdown",
   "metadata": {},
   "source": [
    "We see here a more reasonable result: the nearest-neighbor classifier is about 75% accurate on this hold-out set. The hold-out set is similar to unknown data, because the model has not \"seen\" it before.\n",
    "\n",
    "In severla cases, you may want to use a subset of the training data as a validation set. To split the data in actual training data in training and validation sets, you could apply again the train_test_split on the training data or do it manually. It depends on the task, data, and algorithm you are considering. "
   ]
  },
  {
   "cell_type": "markdown",
   "metadata": {},
   "source": [
    "### Evaluation methods the alternative way: cross-validation\n",
    "\n",
    "One disadvantage of using a holdout set for model evaluation is that we have lost a portion of our data to the model training. In the above case, 50% of the dataset does not contribute to the training of the model! This is not optimal and can cause problems, especially if the initial set of training data is small.\n",
    "\n",
    "One way to address this is to use cross-validation; that is, to do a sequence of training and test runs where each data sample appears exactly once in the test set, while the remaining times it is part of the training set. It might look something like this, visually:\n",
    "\n",
    "![fold-CV](../Images/05.03-2-fold-CV.png)"
   ]
  },
  {
   "cell_type": "markdown",
   "metadata": {},
   "source": [
    "Here we do two evaluation trials. Using the train_test_split function from before, we could implement it manually like this:"
   ]
  },
  {
   "cell_type": "code",
   "execution_count": 9,
   "metadata": {},
   "outputs": [
    {
     "data": {
      "text/plain": [
       "(0.78, 0.66)"
      ]
     },
     "execution_count": 9,
     "metadata": {},
     "output_type": "execute_result"
    }
   ],
   "source": [
    "X1, X2, y1, y2 = model_selection.train_test_split(X, y, train_size=0.5, random_state=0)\n",
    "\n",
    "model = KNeighborsClassifier(n_neighbors=1)\n",
    "y2_pred = model.fit(X1, y1).predict(X2)\n",
    "\n",
    "model = KNeighborsClassifier(n_neighbors=1)\n",
    "y1_pred = model.fit(X2, y2).predict(X1)\n",
    "\n",
    "metrics.accuracy_score(y1, y1_pred), metrics.accuracy_score(y2, y2_pred)"
   ]
  },
  {
   "cell_type": "markdown",
   "metadata": {},
   "source": [
    "What comes out are two accuracy scores, which we could combine (by, say, taking the mean) to get a better measure of the global model performance. This particular form of cross-validation is a *2-fold cross-validation*. We could expand on this idea to use even more trials, and more folds in the data—for example, here is a visual depiction of five-fold cross-validation:\n",
    "\n",
    "![fold-CV](../Images/05.03-5-fold-CV.png)\n",
    "\n",
    "In general, 5- or 10-fold cross-validation is the most common strategy, though it depends on the task and the data at hand.  "
   ]
  },
  {
   "cell_type": "markdown",
   "metadata": {},
   "source": [
    "Here we split the data into five groups, and use each of them in turn to evaluate the model fit on the other 4/5 of the data. This would be rather tedious to do by hand, and so we can use Scikit-Learn's cross_val_score convenience routine to do it succinctly:"
   ]
  },
  {
   "cell_type": "code",
   "execution_count": 10,
   "metadata": {},
   "outputs": [
    {
     "data": {
      "text/plain": [
       "array([0.6 , 0.75, 0.7 , 0.8 , 0.7 ])"
      ]
     },
     "execution_count": 10,
     "metadata": {},
     "output_type": "execute_result"
    }
   ],
   "source": [
    "model = KNeighborsClassifier(n_neighbors=1)\n",
    "model_selection.cross_val_score(model, X, y, cv=5)"
   ]
  },
  {
   "cell_type": "markdown",
   "metadata": {},
   "source": [
    "Repeating the validation across different subsets of the data gives us an even better idea of the performance of the algorithm. More information on the cross_val_score function can be retrieved in the [scikit-learn documentation](https://scikit-learn.org/stable/modules/generated/sklearn.model_selection.cross_val_score.html). Among the most important parameters of this function, we will consider:\n",
    "\n",
    "- estimator: a scikit-learn estimator object implementing ‘fit’ (namely a model); the object to use to fit the data.\n",
    "- X: array-like of shape (n_samples, n_features) represrnting the data to fit. \n",
    "- y: array-like of shape (n_samples,) or (n_samples, n_outputs) representing the target variable to try to predict. \n",
    "- scoring: a string (see predefined scoring functions in scikit-learn) or a function with signature scorer(estimator, X, y). \n",
    "- cv: int, cross-validation generator or an iterable tht determines the cross-validation splitting strategy. Possible inputs for cv are:\n",
    "    - None, to use the default 5-fold cross validation,\n",
    "    - int, to specify the number of folds in a (Stratified)KFold,\n",
    "    - CV splitter,\n",
    "    - An iterable yielding (train, test) splits as arrays of indices.\n",
    "\n",
    "Scikit-Learn implements a number of useful folding schemes that are useful in particular situations; these are implemented via iterators in the model_selection module. For example: \n",
    "- [KFold](https://scikit-learn.org/stable/modules/generated/sklearn.model_selection.KFold.html). The dataset is split into k consecutive folds (without shuffling by default).\n",
    "- [StratifiedKFold](https://scikit-learn.org/stable/modules/generated/sklearn.model_selection.StratifiedKFold.html#sklearn.model_selection.StratifiedKFold). This cross-validation object is a variation of KFold where folds are made by preserving the percentage of samples for each class.\n",
    "- [LeaveOneOut](https://scikit-learn.org/stable/modules/generated/sklearn.model_selection.LeaveOneOut.html#sklearn.model_selection.LeaveOneOut). Each sample is used once as a test set (singleton) while the remaining samples form the training set. \n",
    "\n",
    "Here, we provide an example with the KFold strategy, but the others can be similarly applied. "
   ]
  },
  {
   "cell_type": "code",
   "execution_count": 11,
   "metadata": {},
   "outputs": [
    {
     "name": "stdout",
     "output_type": "stream",
     "text": [
      "Train: [ 2  5  6  7  8  9 10 11 12 15 17 18 19 20 21 22 23 24 25 26 28 29 30 32\n",
      " 33 34 35 36 37 38 39 40 41 42 43 44 45 47 48 50 51 52 53 54 56 58 59 60\n",
      " 61 62 63 64 65 66 67 68 69 70 72 74 76 77 78 79 80 81 82 83 84 85 86 87\n",
      " 88 89 90 91 93 95 98 99] Test: [ 0  1  3  4 13 14 16 27 31 46 49 55 57 71 73 75 92 94 96 97]\n",
      "Train: [ 0  1  3  4  5  6  7 10 11 12 13 14 15 16 17 18 19 21 22 24 26 27 28 29\n",
      " 30 31 32 35 36 37 38 40 41 42 43 44 45 46 47 48 49 51 52 53 54 55 57 58\n",
      " 59 60 61 62 63 64 65 69 71 73 75 76 77 78 79 80 82 83 85 86 87 88 89 90\n",
      " 92 93 94 95 96 97 98 99] Test: [ 2  8  9 20 23 25 33 34 39 50 56 66 67 68 70 72 74 81 84 91]\n",
      "Train: [ 0  1  2  3  4  5  6  8  9 11 12 13 14 16 17 18 19 20 21 22 23 25 27 28\n",
      " 29 31 33 34 36 38 39 41 42 43 45 46 47 48 49 50 51 52 53 55 56 57 58 60\n",
      " 62 63 64 65 66 67 68 70 71 72 73 74 75 76 78 79 81 82 84 85 86 87 89 90\n",
      " 91 92 94 95 96 97 98 99] Test: [ 7 10 15 24 26 30 32 35 37 40 44 54 59 61 69 77 80 83 88 93]\n",
      "Train: [ 0  1  2  3  4  5  7  8  9 10 11 13 14 15 16 17 19 20 21 23 24 25 26 27\n",
      " 28 29 30 31 32 33 34 35 37 38 39 40 43 44 45 46 47 48 49 50 51 53 54 55\n",
      " 56 57 58 59 61 63 64 66 67 68 69 70 71 72 73 74 75 77 78 80 81 83 84 88\n",
      " 90 91 92 93 94 95 96 97] Test: [ 6 12 18 22 36 41 42 52 60 62 65 76 79 82 85 86 87 89 98 99]\n",
      "Train: [ 0  1  2  3  4  6  7  8  9 10 12 13 14 15 16 18 20 22 23 24 25 26 27 30\n",
      " 31 32 33 34 35 36 37 39 40 41 42 44 46 49 50 52 54 55 56 57 59 60 61 62\n",
      " 65 66 67 68 69 70 71 72 73 74 75 76 77 79 80 81 82 83 84 85 86 87 88 89\n",
      " 91 92 93 94 96 97 98 99] Test: [ 5 11 17 19 21 28 29 38 43 45 47 48 51 53 58 63 64 78 90 95]\n"
     ]
    }
   ],
   "source": [
    "kf = model_selection.KFold(n_splits=5, shuffle=True)\n",
    "\n",
    "for train_index, test_index in kf.split(X): \n",
    "    print('Train:', train_index, 'Test:', test_index) \n",
    "    X_train, X_test = X[train_index], X[test_index]\n",
    "    y_train, y_test = y[train_index], y[test_index]\n",
    "    \n",
    "    # Here you can do the usual operations in the pipeline (such as training a model, predicting, and evaluating)"
   ]
  },
  {
   "cell_type": "markdown",
   "metadata": {},
   "source": [
    "The above strategy allows you to be more flexible. However, in several cases, the cross_val_score can be useful to evaluate. "
   ]
  },
  {
   "cell_type": "code",
   "execution_count": 12,
   "metadata": {},
   "outputs": [
    {
     "data": {
      "text/plain": [
       "array([0.85, 0.9 , 0.75, 0.45, 0.7 ])"
      ]
     },
     "execution_count": 12,
     "metadata": {},
     "output_type": "execute_result"
    }
   ],
   "source": [
    "model = KNeighborsClassifier(n_neighbors=1)\n",
    "scores = model_selection.cross_val_score(model, X, y, cv=model_selection.KFold(n_splits=5, shuffle=True),scoring='accuracy')\n",
    "scores"
   ]
  },
  {
   "cell_type": "markdown",
   "metadata": {},
   "source": [
    "Taking the mean of these gives an estimate of the accuracy:"
   ]
  },
  {
   "cell_type": "code",
   "execution_count": 13,
   "metadata": {},
   "outputs": [
    {
     "data": {
      "text/plain": [
       "0.7300000000000001"
      ]
     },
     "execution_count": 13,
     "metadata": {},
     "output_type": "execute_result"
    }
   ],
   "source": [
    "scores.mean()"
   ]
  },
  {
   "cell_type": "markdown",
   "metadata": {},
   "source": [
    "### Evaluation methods the bootstrapping way\n",
    "\n",
    "The bootstrap method is a resampling technique aimed to estimate performance metrics on datasets obtained by sampling with replacement. Specifically, the bootstrap method involves iteratively resampling a dataset with replacement. To do that, you need to choose the size of the sample and the number of repeats. The library scikit-learn provides a function that you can use to resample a dataset for the bootstrap method."
   ]
  },
  {
   "cell_type": "code",
   "execution_count": 14,
   "metadata": {},
   "outputs": [],
   "source": [
    "n_iterations = 10  # No. of bootstrap samples to be created\n",
    "n_size = int(len(X) * 0.50) "
   ]
  },
  {
   "cell_type": "code",
   "execution_count": 15,
   "metadata": {},
   "outputs": [
    {
     "name": "stdout",
     "output_type": "stream",
     "text": [
      "Train: [13 74 93 85 22 12 12 40 11 90 22 27  2 21 60 37 65 98 70 57 46 86 48 29\n",
      " 22 35 68 37 87 10 56 91 83 72 79 22 63 28 74 27 48 51 95 73 31 85 78 61\n",
      " 43 57] Test: [ 0  1  3  4  5  6  7  8  9 14 15 16 17 18 19 20 23 24 25 26 30 32 33 34\n",
      " 36 38 39 41 42 44 45 47 49 50 52 53 54 55 58 59 62 64 66 67 69 71 75 76\n",
      " 77 80 81 82 84 88 89 92 94 96 97 99]\n",
      "Train: [22 99  7 36 57 48 84 62 34 51 67 10 28 67 36 97 33 36 79 28 13 77 58 70\n",
      "  2 77 84 26 60 47 11 93 93 91 96 28 43 10 25 57 97 77 29 55 17  9 98  2\n",
      " 73 99] Test: [ 0  1  3  4  5  6  8 12 14 15 16 18 19 20 21 23 24 27 30 31 32 35 37 38\n",
      " 39 40 41 42 44 45 46 49 50 52 53 54 56 59 61 63 64 65 66 68 69 71 72 74\n",
      " 75 76 78 80 81 82 83 85 86 87 88 89 90 92 94 95]\n",
      "Train: [12 18 68 67 12 38 21 10 26 18 51  2 29 37 42 69 13 72 39 25 31 48 75 12\n",
      " 44 26 58  4 42 63 73 58 93 10 24 96 41 61 54 71 94 42 43 48 15  3 15 92\n",
      " 19 28] Test: [ 0  1  5  6  7  8  9 11 14 16 17 20 22 23 27 30 32 33 34 35 36 40 45 46\n",
      " 47 49 50 52 53 55 56 57 59 60 62 64 65 66 70 74 76 77 78 79 80 81 82 83\n",
      " 84 85 86 87 88 89 90 91 95 97 98 99]\n",
      "Train: [59  8 72 67 25 69 44 68 69 86 32 68 43  2 50 62  7 26 90  8 95  2 54 48\n",
      " 73 43 77 98 23 13 30 98 31 79  0 66 66 93 56 60  3 45 16 92 25 17 81 58\n",
      " 36 88] Test: [ 1  4  5  6  9 10 11 12 14 15 18 19 20 21 22 24 27 28 29 33 34 35 37 38\n",
      " 39 40 41 42 46 47 49 51 52 53 55 57 61 63 64 65 70 71 74 75 76 78 80 82\n",
      " 83 84 85 87 89 91 94 96 97 99]\n",
      "Train: [37 62 98 79 55 92 80 39 78 46 11 16 16 77 87 39 99 75 20  9  3 23 31 81\n",
      " 24 88 74 58 16 27 41 34 73 78  3 39 30 82 38 47 11 83 77 88 25 19 30 79\n",
      " 19 12] Test: [ 0  1  2  4  5  6  7  8 10 13 14 15 17 18 21 22 26 28 29 32 33 35 36 40\n",
      " 42 43 44 45 48 49 50 51 52 53 54 56 57 59 60 61 63 64 65 66 67 68 69 70\n",
      " 71 72 76 84 85 86 89 90 91 93 94 95 96 97]\n",
      "Train: [29 50 66 57 99 97 28 61 38 63  7 34 81 73 12 21 28 49 15 42 57  7 61 26\n",
      " 92 90 85 82 56 70 43 75 42 73 39 60 65 28 75 86 23 86 17 85  9 28 99 47\n",
      " 79 14] Test: [ 0  1  2  3  4  5  6  8 10 11 13 16 18 19 20 22 24 25 27 30 31 32 33 35\n",
      " 36 37 40 41 44 45 46 48 51 52 53 54 55 58 59 62 64 67 68 69 71 72 74 76\n",
      " 77 78 80 83 84 87 88 89 91 93 94 95 96 98]\n",
      "Train: [38 40 82 17 45 16 60 81 91 80  9 99 69 77 86 79 52 99 88 67 96 77 90 10\n",
      "  9 36 20 73 47 28 51 14 19 74 66 54 39 99 72 27 99 33 66 12 69 76 41 62\n",
      " 96 87] Test: [ 0  1  2  3  4  5  6  7  8 11 13 15 18 21 22 23 24 25 26 29 30 31 32 34\n",
      " 35 37 42 43 44 46 48 49 50 53 55 56 57 58 59 61 63 64 65 68 70 71 75 78\n",
      " 83 84 85 89 92 93 94 95 97 98]\n",
      "Train: [10  6 72 26 76  8 24  7 48 83  0  6 13 67 89 58 71 67 34 20 46 80 62 76\n",
      " 80 68 31 70 83 64 20 83 65 43 54 78 66 37 23 65 69 63 77 31 95 55 49 26\n",
      " 51 56] Test: [ 1  2  3  4  5  9 11 12 14 15 16 17 18 19 21 22 25 27 28 29 30 32 33 35\n",
      " 36 38 39 40 41 42 44 45 47 50 52 53 57 59 60 61 73 74 75 79 81 82 84 85\n",
      " 86 87 88 90 91 92 93 94 96 97 98 99]\n",
      "Train: [56 56 76 71 26 50 52  3 80 88 76 87 44 34 25  6 59 37  2 78 81 85 16 29\n",
      " 46 91 27 55 83 33 99 15 42 44 85 28 97 99 58  4 81 76 90 46 61 46 78  4\n",
      " 71 59] Test: [ 0  1  5  7  8  9 10 11 12 13 14 17 18 19 20 21 22 23 24 30 31 32 35 36\n",
      " 38 39 40 41 43 45 47 48 49 51 53 54 57 60 62 63 64 65 66 67 68 69 70 72\n",
      " 73 74 75 77 79 82 84 86 89 92 93 94 95 96 98]\n",
      "Train: [ 0  9 13 10 84  2 23 32 76 31 80  4 32 99  2 11  7  6 17 34 52 26 10 58\n",
      " 19 62 14 31 35 87 34 20 15  9 88 74 58 91 51 83 34 35 27 16 56 75 10 49\n",
      " 42 32] Test: [ 1  3  5  8 12 18 21 22 24 25 28 29 30 33 36 37 38 39 40 41 43 44 45 46\n",
      " 47 48 50 53 54 55 57 59 60 61 63 64 65 66 67 68 69 70 71 72 73 77 78 79\n",
      " 81 82 85 86 89 90 92 93 94 95 96 97 98]\n"
     ]
    }
   ],
   "source": [
    "for i in range(n_iterations):\n",
    "\n",
    "    train_index = utils.resample(np.arange(len(X)), n_samples=n_size) # Sampling with replacement\n",
    "    test_index = np.array([x for x in np.arange(len(X)) if x not in train_index]) # Picking rest of the data for testing\n",
    "    \n",
    "    print('Train:', train_index, 'Test:', test_index) \n",
    "    X_train, X_test = X[train_index], X[test_index]\n",
    "    y_train, y_test = y[train_index], y[test_index]\n",
    "    \n",
    "    # Here you can do the usual operations in the pipeline (such as training a model, predicting, and evaluating)"
   ]
  },
  {
   "cell_type": "markdown",
   "metadata": {},
   "source": [
    "*Note. When you implement cross validation or bootstrapping with for loops, you need to collect all the scores for a performance metric for further processing and reporting (e.g., if you want to show the mean and standard deviation of the scores. User-level, item-level and more advanced evalaution methods might require you to work in this direction.*"
   ]
  },
  {
   "cell_type": "markdown",
   "metadata": {},
   "source": [
    "### Evaluation methods the information criteria way\n",
    "\n",
    "An alternative approach to model selection involves using probabilistic statistical measures that attempt to quantify both the model performance on the dataset and the complexity of the model. Examples include the Akaike Information Criterion (AIC) and the Bayesian Information Criterion (BIC). These criteria are foten used when  models are built for interpretation purposes or unsupervised cases, such as the regression model which provides the best explanation of the dataset or what is the optimal number of clusters for a dataset. Therefore, information criteria are computed directly on the whole dataset. \n",
    "\n",
    "First, let's consider AIC. The AIC score needs to be minimized, e.g. the model with the lowest AIC is selected. To use AIC for model selection, we simply choose the model giving smallest AIC over the set of models considered."
   ]
  },
  {
   "cell_type": "code",
   "execution_count": 16,
   "metadata": {},
   "outputs": [
    {
     "name": "stdout",
     "output_type": "stream",
     "text": [
      "Requirement already satisfied: RegscorePy in c:\\users\\mirko\\appdata\\local\\programs\\python\\python36\\lib\\site-packages (1.1)\n",
      "Requirement already satisfied: numpy in c:\\users\\mirko\\appdata\\local\\programs\\python\\python36\\lib\\site-packages (from RegscorePy) (1.19.2)\n",
      "Requirement already satisfied: pandas in c:\\users\\mirko\\appdata\\local\\programs\\python\\python36\\lib\\site-packages (from RegscorePy) (1.1.2)\n",
      "Requirement already satisfied: pytz>=2017.2 in c:\\users\\mirko\\appdata\\local\\programs\\python\\python36\\lib\\site-packages (from pandas->RegscorePy) (2020.1)\n",
      "Requirement already satisfied: python-dateutil>=2.7.3 in c:\\users\\mirko\\appdata\\local\\programs\\python\\python36\\lib\\site-packages (from pandas->RegscorePy) (2.8.1)\n",
      "Requirement already satisfied: six>=1.5 in c:\\users\\mirko\\appdata\\local\\programs\\python\\python36\\lib\\site-packages (from python-dateutil>=2.7.3->pandas->RegscorePy) (1.15.0)\n"
     ]
    },
    {
     "name": "stderr",
     "output_type": "stream",
     "text": [
      "You are using pip version 18.1, however version 21.0.1 is available.\n",
      "You should consider upgrading via the 'python -m pip install --upgrade pip' command.\n"
     ]
    }
   ],
   "source": [
    "! pip install RegscorePy"
   ]
  },
  {
   "cell_type": "markdown",
   "metadata": {},
   "source": [
    "More information on this package can be found [here](https://pypi.org/project/RegscorePy/). "
   ]
  },
  {
   "cell_type": "code",
   "execution_count": 17,
   "metadata": {},
   "outputs": [
    {
     "name": "stdout",
     "output_type": "stream",
     "text": [
      "Number of parameters: 3\n",
      "MSE: 0.009\n",
      "AIC: -467.180\n"
     ]
    }
   ],
   "source": [
    "from RegscorePy import aic\n",
    "\n",
    "X, y = datasets.make_regression(n_samples=100, n_features=2, noise=0.1)\n",
    "\n",
    "# Fit the model\n",
    "from sklearn.linear_model import LinearRegression\n",
    "model = LinearRegression()\n",
    "model.fit(X, y)\n",
    "y_pred = model.predict(X)\n",
    "\n",
    "# Number of parameters\n",
    "num_params = len(model.coef_) + 1\n",
    "print('Number of parameters: %d' % (num_params))\n",
    "\n",
    "# Calculate the mean squared error\n",
    "mse = metrics.mean_squared_error(y, y_pred)\n",
    "print('MSE: %.3f' % mse)\n",
    "\n",
    "# Calculate the bic\n",
    "aic = aic.aic(y, y_pred, num_params)\n",
    "print('AIC: %.3f' % aic)"
   ]
  },
  {
   "cell_type": "markdown",
   "metadata": {},
   "source": [
    "Similarly, we can arrange a pipeline to show how to use BIC. The BIC score needs to be minimized too, e.g. the model with the lowest BIC is selected. Similarly, to use BIC for model selection, we simply choose the model giving smallest BIC over the set of models considered."
   ]
  },
  {
   "cell_type": "code",
   "execution_count": 18,
   "metadata": {},
   "outputs": [
    {
     "name": "stdout",
     "output_type": "stream",
     "text": [
      "Number of parameters: 3\n",
      "MSE: 0.010\n",
      "BIC: -451.382\n"
     ]
    }
   ],
   "source": [
    "from RegscorePy import bic\n",
    "\n",
    "X, y = datasets.make_regression(n_samples=100, n_features=2, noise=0.1)\n",
    "\n",
    "# Fit the model\n",
    "model = LinearRegression()\n",
    "model.fit(X, y)\n",
    "y_pred = model.predict(X)\n",
    "\n",
    "# Number of parameters\n",
    "num_params = len(model.coef_) + 1\n",
    "print('Number of parameters: %d' % (num_params))\n",
    "\n",
    "# Calculate the mean squared error\n",
    "mse = metrics.mean_squared_error(y, y_pred)\n",
    "print('MSE: %.3f' % mse)\n",
    "\n",
    "# Calculate the bic\n",
    "bic = bic.bic(y, y_pred, num_params)\n",
    "print('BIC: %.3f' % bic)"
   ]
  },
  {
   "cell_type": "markdown",
   "metadata": {},
   "source": [
    "Please, remember that these criteria are applicable for models where the fitting is done under a maximum likelihood setting. \n",
    "\n",
    "The AIC or BIC score along do not tell us to much. The full potential of these two criteria appears when you use them to compare two or more models. In that case, you can compute the AIC/BIC for each model and then decide which model you will pick."
   ]
  },
  {
   "cell_type": "markdown",
   "metadata": {},
   "source": [
    "## Inspecting Trade-offs\n",
    "\n",
    "Now that we have seen the basics of evaluation methods, we will go into a little more depth regarding model selection and selection of hyperparameters. These issues are some of the most important aspects of the practice of machine learning. The question is: if our estimator is underperforming, how should we move forward? \n",
    "\n",
    "There are several possible answers:\n",
    "- Use a more complicated/more flexible model.\n",
    "- Use a less complicated/less flexible model.\n",
    "- Gather more training samples.\n",
    "- Gather more data to add features to each sample.\n",
    "\n",
    "The answer to this question is often counter-intuitive. In particular, sometimes using a more complicated model will give worse results, and adding more training samples may not improve your results. The ability to determine what steps will improve your model is what you will need to develop."
   ]
  },
  {
   "cell_type": "markdown",
   "metadata": {},
   "source": [
    "### The Bias-Variance trade-off\n",
    "\n",
    "Fundamentally, the question of \"the best model\" is about finding a spot in the tradeoff between bias and variance. For high-bias models, the performance of the model on the validation set is similar to the performance on the training set.\n",
    "For high-variance models, the performance of the model on the validation set is far worse than the performance on the training set.\n",
    "If we imagine that we have some ability to tune the model complexity, we would expect the training score and validation score to behave as illustrated in the following figure:\n",
    "\n",
    "![fold-CV](../Images/05.03-validation-curve.png)"
   ]
  },
  {
   "cell_type": "markdown",
   "metadata": {},
   "source": [
    "The diagram shown here is often called a validation curve, and we see the following essential features:\n",
    "\n",
    "- The training score is everywhere higher than the validation score (the model will be a better fit to data it has seen than to data it has not seen).\n",
    "- For very low model complexity (a high-bias model), the training data is under-fit (poor predictor both for the training data and unseen data).\n",
    "- For very high model complexity (a high-variance model), the training data is over-fit (predicts the training data very well, but fails on unseen data).\n",
    "- For some intermediate value, the validation curve has a maximum. This level of complexity indicates a suitable trade-off between bias and variance."
   ]
  },
  {
   "cell_type": "markdown",
   "metadata": {},
   "source": [
    "### Validation curves in scikit-learn"
   ]
  },
  {
   "cell_type": "markdown",
   "metadata": {},
   "source": [
    "Let's look at an example of using cross-validation to compute the validation curve for a class of models. Here we will use a random forest classifier model. One of the most important parameters is represented by the number of trees in the forest <code>n_estimators</code>.\n",
    "\n",
    "A useful question to answer is this: what number of estimators is a suitable trade-off between bias (under-fitting) and variance (over-fitting)?\n",
    "\n",
    "We can make progress in this by visualizing the validation curve for this particular data and model; this can be done straightforwardly using the <code>validation_curve</code> convenience routine provided by scikit-learn. Given a model, data, parameter name, and a range to explore, this function will automatically compute both the training score and validation score across the range:"
   ]
  },
  {
   "cell_type": "code",
   "execution_count": 19,
   "metadata": {},
   "outputs": [],
   "source": [
    "X_train, y_train = datasets.make_classification(n_samples=100, n_features=10, n_redundant=2, n_informative=5, class_sep=0.5)"
   ]
  },
  {
   "cell_type": "code",
   "execution_count": 20,
   "metadata": {},
   "outputs": [
    {
     "data": {
      "text/plain": [
       "<function matplotlib.pyplot.show(close=None, block=None)>"
      ]
     },
     "execution_count": 20,
     "metadata": {},
     "output_type": "execute_result"
    },
    {
     "data": {
      "image/png": "[encoded data removed]",
      "text/plain": [
       "<Figure size 432x288 with 1 Axes>"
      ]
     },
     "metadata": {
      "needs_background": "light"
     },
     "output_type": "display_data"
    }
   ],
   "source": [
    "n_estimators = np.arange(2, 12, 2)\n",
    "\n",
    "train_score, val_score = model_selection.validation_curve(RandomForestClassifier(random_state=0), X_train, y_train, \n",
    "                                          param_name='n_estimators', param_range=n_estimators, \n",
    "                                          cv=model_selection.KFold(n_splits=5, shuffle=True, random_state=15), \n",
    "                                          scoring='accuracy')\n",
    "\n",
    "plt.plot(n_estimators, np.median(train_score, 1), color='blue', label='training score')\n",
    "plt.plot(n_estimators, np.median(val_score, 1), color='red', label='validation score')\n",
    "plt.legend(loc='best')\n",
    "plt.ylim(0, 1)\n",
    "plt.xlim(2, n_estimators[-1])\n",
    "plt.xlabel('n_estimators')\n",
    "plt.ylabel('accuracy')\n",
    "plt.show"
   ]
  },
  {
   "cell_type": "markdown",
   "metadata": {},
   "source": [
    "This shows precisely the qualitative behavior we expect: the training score is everywhere higher than the validation score; the training score is monotonically improving with increased model complexity; and the validation score reaches a maximum before slightly dropping off as the model becomes over-fit.\n",
    "\n",
    "From the validation curve, we can read-off that the optimal trade-off between bias and variance is found for a n_estimators=8. Notice that finding this optimal model did not actually require us to compute the training score, but examining the relationship between the training score and validation score can give us useful insight into the performance of the model.\n",
    "\n",
    "*Note that your results may vary given the stochastic nature of the evaluation procedure or the differences in numerical precision, based on your device. This is just a toy example to introduce use with the concept, practically, in the simplest way as possible.*"
   ]
  },
  {
   "cell_type": "markdown",
   "metadata": {},
   "source": [
    "### Fine-tuning hyper-parameter values through grid search\n",
    "\n",
    "The preceding discussion is meant to give you some intuition into the trade-off between bias and variance, and its dependence on model complexity. In practice, models generally have more than one hyper-parameter to turn, and thus plots of validation plots change from lines to multi-dimensional surfaces. In these cases, such visualizations are difficult and we would rather simply find the particular model that maximizes the validation score.\n",
    "\n",
    "The library scikit-learn provides automated tools to do this in the grid search module. Here is an example of using grid search to find the optimal RandomForest classifier. We will explore a three-dimensional grid of model features; namely the number of estimators, the criterion, and the maximum number of features, for didactic purposes. This can be set up using Scikit-Learn's GridSearchCV meta-estimator. \n",
    "\n",
    "Mode details on grid-search can be found in the [scikit-learn documentation](https://scikit-learn.org/stable/modules/generated/sklearn.model_selection.GridSearchCV.html). "
   ]
  },
  {
   "cell_type": "code",
   "execution_count": 21,
   "metadata": {},
   "outputs": [],
   "source": [
    "param_grid = {'n_estimators': np.arange(2, 40 + 1, 5),\n",
    "              'criterion': ['gini', 'entropy'],\n",
    "              'max_features': ['auto', 'sqrt', 'log2', None]}"
   ]
  },
  {
   "cell_type": "markdown",
   "metadata": {},
   "source": [
    "Which other hyper-parameters we could search for? Feel free to add other hyper-parameters above. "
   ]
  },
  {
   "cell_type": "code",
   "execution_count": 22,
   "metadata": {},
   "outputs": [
    {
     "data": {
      "text/plain": [
       "GridSearchCV(cv=KFold(n_splits=5, random_state=15, shuffle=True),\n",
       "             estimator=RandomForestClassifier(random_state=0),\n",
       "             param_grid={'criterion': ['gini', 'entropy'],\n",
       "                         'max_features': ['auto', 'sqrt', 'log2', None],\n",
       "                         'n_estimators': array([ 2,  7, 12, 17, 22, 27, 32, 37])},\n",
       "             scoring='accuracy')"
      ]
     },
     "execution_count": 22,
     "metadata": {},
     "output_type": "execute_result"
    }
   ],
   "source": [
    "X, y = datasets.make_classification(n_samples=100, n_features=10, n_redundant=0, n_informative=10, class_sep=0.5)\n",
    "X_train, X_test, y_train, y_test = model_selection.train_test_split(X, y, train_size=.8) \n",
    "\n",
    "model = RandomForestClassifier(random_state=0)\n",
    "cv = model_selection.KFold(n_splits=5, shuffle=True, random_state=15)\n",
    "grid = model_selection.GridSearchCV(model, param_grid, cv=cv, scoring='accuracy')\n",
    "grid.fit(X_train, y_train)"
   ]
  },
  {
   "cell_type": "code",
   "execution_count": 23,
   "metadata": {},
   "outputs": [
    {
     "data": {
      "text/plain": [
       "{'criterion': 'entropy', 'max_features': 'auto', 'n_estimators': 27}"
      ]
     },
     "execution_count": 23,
     "metadata": {},
     "output_type": "execute_result"
    }
   ],
   "source": [
    "grid.best_params_"
   ]
  },
  {
   "cell_type": "code",
   "execution_count": 24,
   "metadata": {},
   "outputs": [
    {
     "data": {
      "text/plain": [
       "RandomForestClassifier(criterion='entropy', n_estimators=27, random_state=0)"
      ]
     },
     "execution_count": 24,
     "metadata": {},
     "output_type": "execute_result"
    }
   ],
   "source": [
    "grid.best_estimator_"
   ]
  },
  {
   "cell_type": "code",
   "execution_count": 25,
   "metadata": {},
   "outputs": [
    {
     "data": {
      "text/plain": [
       "dict_keys(['mean_fit_time', 'std_fit_time', 'mean_score_time', 'std_score_time', 'param_criterion', 'param_max_features', 'param_n_estimators', 'params', 'split0_test_score', 'split1_test_score', 'split2_test_score', 'split3_test_score', 'split4_test_score', 'mean_test_score', 'std_test_score', 'rank_test_score'])"
      ]
     },
     "execution_count": 25,
     "metadata": {},
     "output_type": "execute_result"
    }
   ],
   "source": [
    "grid.cv_results_.keys()"
   ]
  },
  {
   "cell_type": "markdown",
   "metadata": {},
   "source": [
    "## Summary\n",
    "\n",
    "In this tutorial, we explored evaluation methods and hyperparameter optimization, finally focusing on intuitive aspects of the bias–variance trade-off and how it comes into play when fitting models to data. "
   ]
  }
 ],
 "metadata": {
  "kernelspec": {
   "display_name": "Python 3",
   "language": "python",
   "name": "python3"
  },
  "language_info": {
   "codemirror_mode": {
    "name": "ipython",
    "version": 3
   },
   "file_extension": ".py",
   "mimetype": "text/x-python",
   "name": "python",
   "nbconvert_exporter": "python",
   "pygments_lexer": "ipython3",
   "version": "3.6.8"
  }
 },
 "nbformat": 4,
 "nbformat_minor": 1
}