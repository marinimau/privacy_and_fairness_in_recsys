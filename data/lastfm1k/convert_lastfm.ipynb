{
 "cells": [
  {
   "cell_type": "code",
   "execution_count": 62,
   "metadata": {
    "collapsed": true
   },
   "outputs": [],
   "source": [
    "import pandas as pd"
   ]
  },
  {
   "cell_type": "code",
   "execution_count": 63,
   "outputs": [
    {
     "data": {
      "text/plain": "   artist_id  plays  user_age  user_gender user_id  user_rating\n0  b'100388'      3      True         True   b'10'     2.214184\n1   b'11932'     19      True         True   b'10'     3.805089\n2   b'56079'      1      True         True   b'10'     1.000000\n3  b'105596'     32      True         True   b'10'     4.084555\n4   b'22332'      3      True         True   b'10'     2.214184",
      "text/html": "<div>\n<style scoped>\n    .dataframe tbody tr th:only-of-type {\n        vertical-align: middle;\n    }\n\n    .dataframe tbody tr th {\n        vertical-align: top;\n    }\n\n    .dataframe thead th {\n        text-align: right;\n    }\n</style>\n<table border=\"1\" class=\"dataframe\">\n  <thead>\n    <tr style=\"text-align: right;\">\n      <th></th>\n      <th>artist_id</th>\n      <th>plays</th>\n      <th>user_age</th>\n      <th>user_gender</th>\n      <th>user_id</th>\n      <th>user_rating</th>\n    </tr>\n  </thead>\n  <tbody>\n    <tr>\n      <th>0</th>\n      <td>b'100388'</td>\n      <td>3</td>\n      <td>True</td>\n      <td>True</td>\n      <td>b'10'</td>\n      <td>2.214184</td>\n    </tr>\n    <tr>\n      <th>1</th>\n      <td>b'11932'</td>\n      <td>19</td>\n      <td>True</td>\n      <td>True</td>\n      <td>b'10'</td>\n      <td>3.805089</td>\n    </tr>\n    <tr>\n      <th>2</th>\n      <td>b'56079'</td>\n      <td>1</td>\n      <td>True</td>\n      <td>True</td>\n      <td>b'10'</td>\n      <td>1.000000</td>\n    </tr>\n    <tr>\n      <th>3</th>\n      <td>b'105596'</td>\n      <td>32</td>\n      <td>True</td>\n      <td>True</td>\n      <td>b'10'</td>\n      <td>4.084555</td>\n    </tr>\n    <tr>\n      <th>4</th>\n      <td>b'22332'</td>\n      <td>3</td>\n      <td>True</td>\n      <td>True</td>\n      <td>b'10'</td>\n      <td>2.214184</td>\n    </tr>\n  </tbody>\n</table>\n</div>"
     },
     "execution_count": 63,
     "metadata": {},
     "output_type": "execute_result"
    }
   ],
   "source": [
    "data = pd.read_csv('./filtered_lastfm_1K.csv')\n",
    "data.head()"
   ],
   "metadata": {
    "collapsed": false,
    "pycharm": {
     "name": "#%%\n"
    }
   }
  },
  {
   "cell_type": "code",
   "execution_count": 64,
   "outputs": [
    {
     "data": {
      "text/plain": "  artist_id  plays  user_age  user_gender user_id  user_rating\n0    100388      3      True         True      10     2.214184\n1     11932     19      True         True      10     3.805089\n2     56079      1      True         True      10     1.000000\n3    105596     32      True         True      10     4.084555\n4     22332      3      True         True      10     2.214184",
      "text/html": "<div>\n<style scoped>\n    .dataframe tbody tr th:only-of-type {\n        vertical-align: middle;\n    }\n\n    .dataframe tbody tr th {\n        vertical-align: top;\n    }\n\n    .dataframe thead th {\n        text-align: right;\n    }\n</style>\n<table border=\"1\" class=\"dataframe\">\n  <thead>\n    <tr style=\"text-align: right;\">\n      <th></th>\n      <th>artist_id</th>\n      <th>plays</th>\n      <th>user_age</th>\n      <th>user_gender</th>\n      <th>user_id</th>\n      <th>user_rating</th>\n    </tr>\n  </thead>\n  <tbody>\n    <tr>\n      <th>0</th>\n      <td>100388</td>\n      <td>3</td>\n      <td>True</td>\n      <td>True</td>\n      <td>10</td>\n      <td>2.214184</td>\n    </tr>\n    <tr>\n      <th>1</th>\n      <td>11932</td>\n      <td>19</td>\n      <td>True</td>\n      <td>True</td>\n      <td>10</td>\n      <td>3.805089</td>\n    </tr>\n    <tr>\n      <th>2</th>\n      <td>56079</td>\n      <td>1</td>\n      <td>True</td>\n      <td>True</td>\n      <td>10</td>\n      <td>1.000000</td>\n    </tr>\n    <tr>\n      <th>3</th>\n      <td>105596</td>\n      <td>32</td>\n      <td>True</td>\n      <td>True</td>\n      <td>10</td>\n      <td>4.084555</td>\n    </tr>\n    <tr>\n      <th>4</th>\n      <td>22332</td>\n      <td>3</td>\n      <td>True</td>\n      <td>True</td>\n      <td>10</td>\n      <td>2.214184</td>\n    </tr>\n  </tbody>\n</table>\n</div>"
     },
     "execution_count": 64,
     "metadata": {},
     "output_type": "execute_result"
    }
   ],
   "source": [
    "data['artist_id'] = data['artist_id'].apply(lambda x : x.replace(\"b'\", \"\").replace(\"'\", \"\"))\n",
    "data['user_id'] = data['user_id'].apply(lambda x : x.replace(\"b'\", \"\").replace(\"'\", \"\"))\n",
    "data.head()"
   ],
   "metadata": {
    "collapsed": false,
    "pycharm": {
     "name": "#%%\n"
    }
   }
  },
  {
   "cell_type": "markdown",
   "source": [
    "## User df"
   ],
   "metadata": {
    "collapsed": false,
    "pycharm": {
     "name": "#%% md\n"
    }
   }
  },
  {
   "cell_type": "code",
   "execution_count": 65,
   "outputs": [
    {
     "data": {
      "text/plain": "array(['M', 'F'], dtype=object)"
     },
     "execution_count": 65,
     "metadata": {},
     "output_type": "execute_result"
    }
   ],
   "source": [
    "def replace_gender(x):\n",
    "    return 'M' if x else 'F'\n",
    "\n",
    "user_df = data[['user_id', 'user_gender', 'user_age']]\n",
    "user_df = user_df.drop_duplicates(subset=['user_id'])\n",
    "user_df['user_gender'] = data['user_gender'].apply(lambda x: replace_gender(x))\n",
    "user_df.reset_index(drop=True, inplace=True)\n",
    "user_df.set_index('user_id')\n",
    "user_df['user_gender'].unique()"
   ],
   "metadata": {
    "collapsed": false,
    "pycharm": {
     "name": "#%%\n"
    }
   }
  },
  {
   "cell_type": "code",
   "execution_count": 66,
   "outputs": [],
   "source": [
    "user_df.to_csv('users.tsv', header=None, index=None, sep='\\t')"
   ],
   "metadata": {
    "collapsed": false,
    "pycharm": {
     "name": "#%%\n"
    }
   }
  },
  {
   "cell_type": "markdown",
   "source": [
    "## Interactions"
   ],
   "metadata": {
    "collapsed": false,
    "pycharm": {
     "name": "#%% md\n"
    }
   }
  },
  {
   "cell_type": "code",
   "execution_count": 67,
   "outputs": [
    {
     "data": {
      "text/plain": "  user_id artist_id  user_rating\n0      10    100388     2.214184\n1      10     11932     3.805089\n2      10     56079     1.000000\n3      10    105596     4.084555\n4      10     22332     2.214184",
      "text/html": "<div>\n<style scoped>\n    .dataframe tbody tr th:only-of-type {\n        vertical-align: middle;\n    }\n\n    .dataframe tbody tr th {\n        vertical-align: top;\n    }\n\n    .dataframe thead th {\n        text-align: right;\n    }\n</style>\n<table border=\"1\" class=\"dataframe\">\n  <thead>\n    <tr style=\"text-align: right;\">\n      <th></th>\n      <th>user_id</th>\n      <th>artist_id</th>\n      <th>user_rating</th>\n    </tr>\n  </thead>\n  <tbody>\n    <tr>\n      <th>0</th>\n      <td>10</td>\n      <td>100388</td>\n      <td>2.214184</td>\n    </tr>\n    <tr>\n      <th>1</th>\n      <td>10</td>\n      <td>11932</td>\n      <td>3.805089</td>\n    </tr>\n    <tr>\n      <th>2</th>\n      <td>10</td>\n      <td>56079</td>\n      <td>1.000000</td>\n    </tr>\n    <tr>\n      <th>3</th>\n      <td>10</td>\n      <td>105596</td>\n      <td>4.084555</td>\n    </tr>\n    <tr>\n      <th>4</th>\n      <td>10</td>\n      <td>22332</td>\n      <td>2.214184</td>\n    </tr>\n  </tbody>\n</table>\n</div>"
     },
     "execution_count": 67,
     "metadata": {},
     "output_type": "execute_result"
    }
   ],
   "source": [
    "ratings_df = data[['user_id', 'artist_id', 'user_rating']]\n",
    "ratings_df.head(5)"
   ],
   "metadata": {
    "collapsed": false,
    "pycharm": {
     "name": "#%%\n"
    }
   }
  },
  {
   "cell_type": "code",
   "execution_count": 68,
   "outputs": [],
   "source": [
    "ratings_df.to_csv('ratings.tsv', header=None, index=None, sep='\\t')"
   ],
   "metadata": {
    "collapsed": false,
    "pycharm": {
     "name": "#%%\n"
    }
   }
  }
 ],
 "metadata": {
  "kernelspec": {
   "display_name": "Python 3",
   "language": "python",
   "name": "python3"
  },
  "language_info": {
   "codemirror_mode": {
    "name": "ipython",
    "version": 2
   },
   "file_extension": ".py",
   "mimetype": "text/x-python",
   "name": "python",
   "nbconvert_exporter": "python",
   "pygments_lexer": "ipython2",
   "version": "2.7.6"
  }
 },
 "nbformat": 4,
 "nbformat_minor": 0
}