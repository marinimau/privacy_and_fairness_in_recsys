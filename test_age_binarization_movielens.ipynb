{
 "cells": [
  {
   "cell_type": "code",
   "execution_count": 7,
   "metadata": {
    "collapsed": true
   },
   "outputs": [
    {
     "data": {
      "text/plain": "<bound method DataFrame.count of        uid  class\n1        2  False\n3        4  False\n5        6  False\n6        7  False\n9       10  False\n...    ...    ...\n6031  6032  False\n6032  6033  False\n6036  6037  False\n6037  6038  False\n6038  6039  False\n\n[2619 rows x 2 columns]>"
     },
     "execution_count": 7,
     "metadata": {},
     "output_type": "execute_result"
    }
   ],
   "source": [
    "from load_data import get_age_labels\n",
    "\n",
    "age_labels = get_age_labels()\n",
    "\n",
    "age_labels.loc[(age_labels['class'] == False)].count"
   ]
  }
 ],
 "metadata": {
  "kernelspec": {
   "display_name": "Python 3",
   "language": "python",
   "name": "python3"
  },
  "language_info": {
   "codemirror_mode": {
    "name": "ipython",
    "version": 2
   },
   "file_extension": ".py",
   "mimetype": "text/x-python",
   "name": "python",
   "nbconvert_exporter": "python",
   "pygments_lexer": "ipython2",
   "version": "2.7.6"
  }
 },
 "nbformat": 4,
 "nbformat_minor": 0
}