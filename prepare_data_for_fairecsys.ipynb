{
 "cells": [
  {
   "cell_type": "markdown",
   "metadata": {
    "collapsed": true,
    "pycharm": {
     "name": "#%% md\n"
    }
   },
   "source": [
    "# Prepare data for FairRecSys"
   ]
  },
  {
   "cell_type": "markdown",
   "source": [
    "## Users"
   ],
   "metadata": {
    "collapsed": false
   }
  },
  {
   "cell_type": "code",
   "execution_count": 28,
   "outputs": [
    {
     "data": {
      "text/plain": "   user  gender\n0     1    True\n1     2   False\n2     3   False\n3     4   False\n4     5   False",
      "text/html": "<div>\n<style scoped>\n    .dataframe tbody tr th:only-of-type {\n        vertical-align: middle;\n    }\n\n    .dataframe tbody tr th {\n        vertical-align: top;\n    }\n\n    .dataframe thead th {\n        text-align: right;\n    }\n</style>\n<table border=\"1\" class=\"dataframe\">\n  <thead>\n    <tr style=\"text-align: right;\">\n      <th></th>\n      <th>user</th>\n      <th>gender</th>\n    </tr>\n  </thead>\n  <tbody>\n    <tr>\n      <th>0</th>\n      <td>1</td>\n      <td>True</td>\n    </tr>\n    <tr>\n      <th>1</th>\n      <td>2</td>\n      <td>False</td>\n    </tr>\n    <tr>\n      <th>2</th>\n      <td>3</td>\n      <td>False</td>\n    </tr>\n    <tr>\n      <th>3</th>\n      <td>4</td>\n      <td>False</td>\n    </tr>\n    <tr>\n      <th>4</th>\n      <td>5</td>\n      <td>False</td>\n    </tr>\n  </tbody>\n</table>\n</div>"
     },
     "execution_count": 28,
     "metadata": {},
     "output_type": "execute_result"
    }
   ],
   "source": [
    "import pandas as pd\n",
    "import os\n",
    "\n",
    "from load_data import get_gender_labels, get_best_recs\n",
    "\n",
    "user_df = get_gender_labels()\n",
    "user_df.rename(columns={'uid':'user', 'class':'gender'}, inplace=True)\n",
    "user_df.head()"
   ],
   "metadata": {
    "collapsed": false,
    "pycharm": {
     "name": "#%%\n"
    }
   }
  },
  {
   "cell_type": "markdown",
   "source": [
    "## Recs\n"
   ],
   "metadata": {
    "collapsed": false
   }
  },
  {
   "cell_type": "code",
   "execution_count": 29,
   "outputs": [
    {
     "data": {
      "text/plain": "   user  item  position    weight\n0     1     1         0  9.213260\n1     1  1704         1  8.872660\n2     1   595         2  8.193960\n3     1   593         3  6.659019\n4     1  1210         4  6.486543",
      "text/html": "<div>\n<style scoped>\n    .dataframe tbody tr th:only-of-type {\n        vertical-align: middle;\n    }\n\n    .dataframe tbody tr th {\n        vertical-align: top;\n    }\n\n    .dataframe thead th {\n        text-align: right;\n    }\n</style>\n<table border=\"1\" class=\"dataframe\">\n  <thead>\n    <tr style=\"text-align: right;\">\n      <th></th>\n      <th>user</th>\n      <th>item</th>\n      <th>position</th>\n      <th>weight</th>\n    </tr>\n  </thead>\n  <tbody>\n    <tr>\n      <th>0</th>\n      <td>1</td>\n      <td>1</td>\n      <td>0</td>\n      <td>9.213260</td>\n    </tr>\n    <tr>\n      <th>1</th>\n      <td>1</td>\n      <td>1704</td>\n      <td>1</td>\n      <td>8.872660</td>\n    </tr>\n    <tr>\n      <th>2</th>\n      <td>1</td>\n      <td>595</td>\n      <td>2</td>\n      <td>8.193960</td>\n    </tr>\n    <tr>\n      <th>3</th>\n      <td>1</td>\n      <td>593</td>\n      <td>3</td>\n      <td>6.659019</td>\n    </tr>\n    <tr>\n      <th>4</th>\n      <td>1</td>\n      <td>1210</td>\n      <td>4</td>\n      <td>6.486543</td>\n    </tr>\n  </tbody>\n</table>\n</div>"
     },
     "execution_count": 29,
     "metadata": {},
     "output_type": "execute_result"
    }
   ],
   "source": [
    "\n",
    "file_path = './recs/movielens1m/user-knn.tsv'\n",
    "relevance_df = pd.read_csv(file_path, header=None, sep='\\t')\n",
    "relevance_df.rename(columns={0:'uid', 1:'movie_id', 2:'rating'}, inplace=True)\n",
    "# recs\n",
    "recs_df = get_best_recs(relevance_df, 50)\n",
    "recs_df.rename(columns={'uid':'user', 'movie_id':'item', 'rating':'weight'}, inplace=True)\n",
    "recs_df['position'] = recs_df.groupby('user').cumcount()\n",
    "cols = ['user', 'item', 'position', 'weight']\n",
    "recs_df = recs_df[cols]\n",
    "recs_df.head()"
   ],
   "metadata": {
    "collapsed": false,
    "pycharm": {
     "name": "#%%\n"
    }
   }
  },
  {
   "cell_type": "markdown",
   "source": [
    "## Write files"
   ],
   "metadata": {
    "collapsed": false,
    "pycharm": {
     "name": "#%% md\n"
    }
   }
  },
  {
   "cell_type": "code",
   "execution_count": 30,
   "outputs": [],
   "source": [
    "output_dir = 'fairecsys_input_data/'\n",
    "os.makedirs(output_dir, exist_ok=True)\n",
    "user_df.to_csv(output_dir + 'users.csv', sep=',', header=True, index=False)\n",
    "recs_df.to_csv(output_dir + 'recs.csv', sep=',', header=True, index=False)"
   ],
   "metadata": {
    "collapsed": false,
    "pycharm": {
     "name": "#%%\n"
    }
   }
  }
 ],
 "metadata": {
  "kernelspec": {
   "display_name": "Python 3",
   "language": "python",
   "name": "python3"
  },
  "language_info": {
   "codemirror_mode": {
    "name": "ipython",
    "version": 2
   },
   "file_extension": ".py",
   "mimetype": "text/x-python",
   "name": "python",
   "nbconvert_exporter": "python",
   "pygments_lexer": "ipython2",
   "version": "2.7.6"
  }
 },
 "nbformat": 4,
 "nbformat_minor": 0
}