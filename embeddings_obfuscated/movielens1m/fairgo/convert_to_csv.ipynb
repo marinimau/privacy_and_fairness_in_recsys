{
 "cells": [
  {
   "cell_type": "code",
   "execution_count": 16,
   "metadata": {
    "collapsed": true
   },
   "outputs": [],
   "source": [
    "import numpy as np"
   ]
  },
  {
   "cell_type": "code",
   "execution_count": 17,
   "outputs": [],
   "source": [
    "fairgo_age_bprmf = np.load('age/bprmf.npy', allow_pickle=False)\n",
    "fairgo_gender_bprmf  = np.load('gender/bprmf.npy', allow_pickle=False)"
   ],
   "metadata": {
    "collapsed": false,
    "pycharm": {
     "name": "#%%\n"
    }
   }
  },
  {
   "cell_type": "code",
   "execution_count": 18,
   "outputs": [],
   "source": [
    "np.savetxt(\"age/bprmf.csv\", fairgo_age_bprmf, delimiter=\",\")\n",
    "np.savetxt(\"gender/bprmf.csv\", fairgo_gender_bprmf, delimiter=\",\")\n",
    "\n"
   ],
   "metadata": {
    "collapsed": false,
    "pycharm": {
     "name": "#%%\n"
    }
   }
  },
  {
   "cell_type": "code",
   "execution_count": 19,
   "outputs": [],
   "source": [
    "fairgo_age_wrmf = np.load('age/wrmf.npy', allow_pickle=False)\n",
    "fairgo_gender_wrmf  = np.load('gender/wrmf.npy', allow_pickle=False)"
   ],
   "metadata": {
    "collapsed": false,
    "pycharm": {
     "name": "#%%\n"
    }
   }
  },
  {
   "cell_type": "code",
   "execution_count": 20,
   "outputs": [],
   "source": [
    "np.savetxt(\"age/wrmf.csv\", fairgo_age_wrmf, delimiter=\",\")\n",
    "np.savetxt(\"gender/wrmf.csv\", fairgo_gender_wrmf, delimiter=\",\")"
   ],
   "metadata": {
    "collapsed": false,
    "pycharm": {
     "name": "#%%\n"
    }
   }
  }
 ],
 "metadata": {
  "kernelspec": {
   "display_name": "Python 3",
   "language": "python",
   "name": "python3"
  },
  "language_info": {
   "codemirror_mode": {
    "name": "ipython",
    "version": 2
   },
   "file_extension": ".py",
   "mimetype": "text/x-python",
   "name": "python",
   "nbconvert_exporter": "python",
   "pygments_lexer": "ipython2",
   "version": "2.7.6"
  }
 },
 "nbformat": 4,
 "nbformat_minor": 0
}