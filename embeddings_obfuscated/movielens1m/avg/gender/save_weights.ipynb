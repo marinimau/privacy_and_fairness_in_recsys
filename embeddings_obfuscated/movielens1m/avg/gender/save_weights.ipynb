{
 "cells": [
  {
   "cell_type": "code",
   "execution_count": 1,
   "metadata": {
    "collapsed": true,
    "pycharm": {
     "name": "#%%\n"
    }
   },
   "outputs": [],
   "source": [
    "import pickle\n",
    "import pandas as pd\n",
    "import numpy as np\n",
    "\n",
    "def load_weights(path):\n",
    "    with open(path, \"rb\") as f:\n",
    "        w = pickle.load(f)\n",
    "    return w\n",
    "\n",
    "w = load_weights('bprmf')\n",
    "df = pd.DataFrame(w['_user_factors'])\n",
    "df.to_csv('bprmf.csv', index=False, encoding='utf-8')\n",
    "\n",
    "w = load_weights('user-knn')\n",
    "df = pd.DataFrame(w['_preds'])\n",
    "df.to_csv('user-knn.csv', index=False, encoding='utf-8')\n",
    "\n",
    "w = load_weights('wrmf')\n",
    "df = pd.DataFrame(w['pred_mat'])\n",
    "df.to_csv('wrmf.csv', index=False, encoding='utf-8')"
   ]
  }
 ],
 "metadata": {
  "kernelspec": {
   "display_name": "Python 3",
   "language": "python",
   "name": "python3"
  },
  "language_info": {
   "codemirror_mode": {
    "name": "ipython",
    "version": 2
   },
   "file_extension": ".py",
   "mimetype": "text/x-python",
   "name": "python",
   "nbconvert_exporter": "python",
   "pygments_lexer": "ipython2",
   "version": "2.7.6"
  }
 },
 "nbformat": 4,
 "nbformat_minor": 0
}