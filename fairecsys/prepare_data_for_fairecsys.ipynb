{
 "cells": [
  {
   "cell_type": "markdown",
   "metadata": {
    "collapsed": true,
    "pycharm": {
     "name": "#%% md\n"
    }
   },
   "source": [
    "# Prepare data for FairRecSys"
   ]
  },
  {
   "cell_type": "markdown",
   "source": [
    "## Users"
   ],
   "metadata": {
    "collapsed": false
   }
  },
  {
   "cell_type": "code",
   "execution_count": 11,
   "outputs": [],
   "source": [
    "import pandas as pd\n",
    "import os\n",
    "\n",
    "from load_data import get_gender_labels, get_age_labels, get_best_recs\n",
    "\n",
    "user_gender_df = get_gender_labels()\n",
    "user_gender_df.rename(columns={'uid':'user', 'class':'gender'}, inplace=True)\n",
    "\n",
    "user_age_df = get_age_labels()\n",
    "user_age_df.rename(columns={'uid':'user', 'class':'age'}, inplace=True)\n",
    "\n",
    "output_dir = 'input/'\n",
    "os.makedirs(output_dir, exist_ok=True)\n",
    "user_gender_df.to_csv(output_dir + 'users_gender.csv', sep=',', header=True, index=False)\n",
    "user_age_df.to_csv(output_dir + 'users_age.csv', sep=',', header=True, index=False)"
   ],
   "metadata": {
    "collapsed": false,
    "pycharm": {
     "name": "#%%\n"
    }
   }
  },
  {
   "cell_type": "markdown",
   "source": [
    "## Recs\n"
   ],
   "metadata": {
    "collapsed": false
   }
  },
  {
   "cell_type": "code",
   "execution_count": 12,
   "outputs": [
    {
     "name": "stderr",
     "output_type": "stream",
     "text": [
      "/Users/mauromarini/PycharmProjects/privacy_and_fairness_in_recsys/venv/lib/python3.8/site-packages/pandas/core/frame.py:5039: SettingWithCopyWarning: \n",
      "A value is trying to be set on a copy of a slice from a DataFrame\n",
      "\n",
      "See the caveats in the documentation: https://pandas.pydata.org/pandas-docs/stable/user_guide/indexing.html#returning-a-view-versus-a-copy\n",
      "  return super().rename(\n",
      "/var/folders/0r/m1t8hv6s7l9bsyqckwntb9qm0000gn/T/ipykernel_2640/1709813713.py:11: SettingWithCopyWarning: \n",
      "A value is trying to be set on a copy of a slice from a DataFrame.\n",
      "Try using .loc[row_indexer,col_indexer] = value instead\n",
      "\n",
      "See the caveats in the documentation: https://pandas.pydata.org/pandas-docs/stable/user_guide/indexing.html#returning-a-view-versus-a-copy\n",
      "  recs_df['position'] = recs_df.groupby('user').cumcount()\n"
     ]
    }
   ],
   "source": [
    "recs_models = ['user-knn', 'bprmf', 'wrmf', 'multidae']\n",
    "cutoffs = [10, 20, 50]\n",
    "for model in recs_models:\n",
    "    for c in cutoffs:\n",
    "        file_path = '../recs/movielens1m/' + model + '.tsv'\n",
    "        relevance_df = pd.read_csv(file_path, header=None, sep='\\t')\n",
    "        relevance_df.rename(columns={0:'uid', 1:'movie_id', 2:'rating'}, inplace=True)\n",
    "        # recs\n",
    "        recs_df = get_best_recs(relevance_df, c)\n",
    "        recs_df.rename(columns={'uid':'user', 'movie_id':'item', 'rating':'weight'}, inplace=True)\n",
    "        recs_df['position'] = recs_df.groupby('user').cumcount()\n",
    "        cols = ['user', 'item', 'position', 'weight']\n",
    "        recs_df = recs_df[cols]\n",
    "        output_dir = 'input/'\n",
    "        recs_df.to_csv(output_dir + model + '_cutoff' + str(c) + '.csv', sep=',', header=True, index=False)\n",
    "\n",
    "\n"
   ],
   "metadata": {
    "collapsed": false,
    "pycharm": {
     "name": "#%%\n"
    }
   }
  }
 ],
 "metadata": {
  "kernelspec": {
   "display_name": "Python 3",
   "language": "python",
   "name": "python3"
  },
  "language_info": {
   "codemirror_mode": {
    "name": "ipython",
    "version": 2
   },
   "file_extension": ".py",
   "mimetype": "text/x-python",
   "name": "python",
   "nbconvert_exporter": "python",
   "pygments_lexer": "ipython2",
   "version": "2.7.6"
  }
 },
 "nbformat": 4,
 "nbformat_minor": 0
}