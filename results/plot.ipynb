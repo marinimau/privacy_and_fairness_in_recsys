{
 "cells": [
  {
   "cell_type": "markdown",
   "source": [
    "# Plot results\n"
   ],
   "metadata": {
    "collapsed": false,
    "pycharm": {
     "name": "#%% md\n"
    }
   }
  },
  {
   "cell_type": "code",
   "source": [
    "import pandas as pd\n",
    "import matplotlib.pyplot as plt\n",
    "\n",
    "EXPERIMENT_FOR_MODEL = 4\n",
    "\n",
    "\n",
    "gender_inference_random_forest = pd.read_csv('./sample/gender_inference_random_forest.csv', header=None)\n",
    "gender_inference_random_forest.rename(columns={0: 'dataset', 1: 'balanced acc', 2: 'f1', 3: 'precision', 4: 'recall', 5: 'roc auc'}, inplace=True)\n",
    "\n",
    "gender_inference_logistic_regression = pd.read_csv('./sample/gender_inference_logistic_regression.csv', header=None)\n",
    "gender_inference_logistic_regression.rename(columns={0: 'dataset', 1: 'balanced acc', 2: 'f1', 3: 'precision', 4: 'recall', 5: 'roc auc'}, inplace=True)\n"
   ],
   "metadata": {
    "collapsed": false,
    "pycharm": {
     "name": "#%%\n"
    }
   },
   "execution_count": null,
   "outputs": []
  },
  {
   "cell_type": "markdown",
   "source": [
    "### Gender inference"
   ],
   "metadata": {
    "collapsed": false
   }
  },
  {
   "cell_type": "markdown",
   "source": [
    "* observation"
   ],
   "metadata": {
    "collapsed": false,
    "pycharm": {
     "name": "#%% md\n"
    }
   }
  },
  {
   "cell_type": "code",
   "execution_count": null,
   "outputs": [],
   "source": [
    "observation_gender_inference_random_forest = gender_inference_random_forest.iloc[0].to_frame().tail(5)\n",
    "observation_gender_inference_random_forest.rename(columns={0: 'Random Forest'}, inplace=True)\n",
    "observation_gender_inference_logistic_regression = gender_inference_logistic_regression.iloc[0].to_frame().tail(5)\n",
    "observation_gender_inference_logistic_regression.rename(columns={0: 'Logistic Regression'}, inplace=True)\n",
    "\n",
    "observation_gender_inference_random_forest_merged = pd.concat([observation_gender_inference_random_forest,\n",
    "                                                              observation_gender_inference_logistic_regression], axis=1)\n",
    "\n",
    "observation_gender_inference_random_forest_merged = observation_gender_inference_random_forest_merged\n",
    "\n",
    "observation_gender_inference_random_forest_merged"
   ],
   "metadata": {
    "collapsed": false,
    "pycharm": {
     "name": "#%%\n"
    }
   }
  },
  {
   "cell_type": "code",
   "execution_count": null,
   "outputs": [],
   "source": [
    "plt.style.use('ggplot')\n",
    "observation_gender_inference_random_forest_merged.plot(kind='bar')\n",
    "plt.title('Performance for observation')\n",
    "plt.ylabel('Score')\n",
    "plt.xlabel('Dataset')\n"
   ],
   "metadata": {
    "collapsed": false,
    "pycharm": {
     "name": "#%%\n"
    }
   }
  },
  {
   "cell_type": "markdown",
   "source": [
    "##### For each recommendation model show performance at each step of the pipeline\n",
    "\n"
   ],
   "metadata": {
    "collapsed": false,
    "pycharm": {
     "name": "#%% md\n"
    }
   }
  },
  {
   "cell_type": "markdown",
   "source": [
    "* user KNN\n"
   ],
   "metadata": {
    "collapsed": false,
    "pycharm": {
     "name": "#%% md\n"
    }
   }
  },
  {
   "cell_type": "code",
   "execution_count": null,
   "outputs": [],
   "source": [
    "current_experiment = 0\n",
    "first_item = 1 + EXPERIMENT_FOR_MODEL * current_experiment\n",
    "userKNN_model_performance_random_forest = gender_inference_random_forest.iloc[first_item:first_item+EXPERIMENT_FOR_MODEL,:].reset_index()\n",
    "userKNN_model_performance_logistic_regression = gender_inference_logistic_regression.iloc[first_item:first_item+EXPERIMENT_FOR_MODEL,:].reset_index()\n",
    "userKNN_model_performance_random_forest"
   ],
   "metadata": {
    "collapsed": false,
    "pycharm": {
     "name": "#%%\n"
    }
   }
  },
  {
   "cell_type": "code",
   "execution_count": null,
   "outputs": [],
   "source": [
    "metrics = ['balanced acc', 'f1', 'precision', 'recall', 'roc auc']\n",
    "\n",
    "def perform_plot(random_forest, logistic_regression, metric, model_name):\n",
    "    plt.figure()\n",
    "    plt.style.use('ggplot')\n",
    "    random_forest[metric].plot(kind='line')\n",
    "    logistic_regression[metric].plot(kind='line')\n",
    "    plt.title(metric + ' in ' + model_name + ' pipeline')\n",
    "    indices = range(random_forest.shape[0])\n",
    "    labels = random_forest['dataset'].to_list()\n",
    "    plt.xticks(indices, labels, rotation=90)\n"
   ],
   "metadata": {
    "collapsed": false,
    "pycharm": {
     "name": "#%%\n"
    }
   }
  },
  {
   "cell_type": "code",
   "execution_count": null,
   "outputs": [],
   "source": [
    "for m in metrics:\n",
    "    perform_plot(userKNN_model_performance_random_forest, userKNN_model_performance_logistic_regression, m, 'UserKNN')"
   ],
   "metadata": {
    "collapsed": false,
    "pycharm": {
     "name": "#%%\n"
    }
   }
  },
  {
   "cell_type": "markdown",
   "source": [
    "* item KNN"
   ],
   "metadata": {
    "collapsed": false,
    "pycharm": {
     "name": "#%% md\n"
    }
   }
  },
  {
   "cell_type": "code",
   "execution_count": null,
   "outputs": [],
   "source": [
    "current_experiment = 1\n",
    "first_item = 1 + EXPERIMENT_FOR_MODEL * current_experiment\n",
    "itemKNN_model_performance_random_forest = gender_inference_random_forest.iloc[first_item:first_item+EXPERIMENT_FOR_MODEL,:].reset_index()\n",
    "itemKNN_model_performance_logistic_regression = gender_inference_logistic_regression.iloc[first_item:first_item+EXPERIMENT_FOR_MODEL,:].reset_index()\n",
    "\n",
    "for m in metrics:\n",
    "    perform_plot(itemKNN_model_performance_random_forest, itemKNN_model_performance_logistic_regression, m, 'ItemKNN')"
   ],
   "metadata": {
    "collapsed": false,
    "pycharm": {
     "name": "#%%\n"
    }
   }
  },
  {
   "cell_type": "code",
   "execution_count": null,
   "outputs": [],
   "source": [],
   "metadata": {
    "collapsed": false,
    "pycharm": {
     "name": "#%%\n"
    }
   }
  },
  {
   "cell_type": "markdown",
   "source": [
    "* most popular"
   ],
   "metadata": {
    "collapsed": false
   }
  },
  {
   "cell_type": "code",
   "execution_count": null,
   "outputs": [],
   "source": [
    "current_experiment = 2\n",
    "first_item = 1 + EXPERIMENT_FOR_MODEL * current_experiment\n",
    "most_pop_model_performance_random_forest = gender_inference_random_forest.iloc[first_item:first_item+EXPERIMENT_FOR_MODEL,:].reset_index()\n",
    "most_pop_model_performance_logistic_regression = gender_inference_logistic_regression.iloc[first_item:first_item+EXPERIMENT_FOR_MODEL,:].reset_index()\n",
    "\n",
    "for m in metrics:\n",
    "    perform_plot(most_pop_model_performance_random_forest, most_pop_model_performance_logistic_regression, m, 'MostPopular')"
   ],
   "metadata": {
    "collapsed": false,
    "pycharm": {
     "name": "#%%\n"
    }
   }
  },
  {
   "cell_type": "markdown",
   "source": [
    "##### For each step of the pipeline show performance of recommendation models"
   ],
   "metadata": {
    "collapsed": false
   }
  },
  {
   "cell_type": "markdown",
   "source": [
    "* relevance"
   ],
   "metadata": {
    "collapsed": false,
    "pycharm": {
     "name": "#%% md\n"
    }
   }
  },
  {
   "cell_type": "code",
   "execution_count": null,
   "outputs": [],
   "source": [
    "current_step = 0\n",
    "first_item = 1 + current_step\n",
    "relevance_random_forest = gender_inference_random_forest.iloc[first_item::EXPERIMENT_FOR_MODEL,:].reset_index()\n",
    "relevance_logistic_regression = gender_inference_logistic_regression.iloc[first_item::EXPERIMENT_FOR_MODEL,:].reset_index()\n",
    "relevance_random_forest"
   ],
   "metadata": {
    "collapsed": false,
    "pycharm": {
     "name": "#%%\n"
    }
   }
  }
 ],
 "metadata": {
  "kernelspec": {
   "display_name": "Python 3",
   "language": "python",
   "name": "python3"
  },
  "language_info": {
   "codemirror_mode": {
    "name": "ipython",
    "version": 2
   },
   "file_extension": ".py",
   "mimetype": "text/x-python",
   "name": "python",
   "nbconvert_exporter": "python",
   "pygments_lexer": "ipython2",
   "version": "2.7.6"
  }
 },
 "nbformat": 4,
 "nbformat_minor": 0
}