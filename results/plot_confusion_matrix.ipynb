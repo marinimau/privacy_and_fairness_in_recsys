{
 "cells": [
  {
   "cell_type": "code",
   "execution_count": 1,
   "metadata": {
    "collapsed": true
   },
   "outputs": [],
   "source": [
    "import seaborn as sn\n",
    "import pandas as pd\n",
    "import numpy as np\n",
    "import matplotlib.pyplot as plt\n",
    "\n",
    "from conf import data_root"
   ]
  },
  {
   "cell_type": "code",
   "execution_count": 2,
   "outputs": [],
   "source": [
    "pd.options.display.float_format = '{:,.0f}'.format\n",
    "\n",
    "path =  data_root + \"/confusion_matrix/bprmf_classification_best_50_gender_inference_random-forest.txt\"\n",
    "\n",
    "labels_gender = [\"F\", \"M\"]\n",
    "labels_age = [\"1\", \"18\", \"25\", \"35\", \"45\", \"50\", \"56\"]"
   ],
   "metadata": {
    "collapsed": false,
    "pycharm": {
     "name": "#%%\n"
    }
   }
  },
  {
   "cell_type": "code",
   "execution_count": 3,
   "outputs": [],
   "source": [
    "def read_from_path():\n",
    "    \"\"\"\n",
    "    Read the confusion matrix in the given path\n",
    "    \"\"\"\n",
    "    return np.genfromtxt(path, delimiter=',')[:,:]"
   ],
   "metadata": {
    "collapsed": false,
    "pycharm": {
     "name": "#%%\n"
    }
   }
  },
  {
   "cell_type": "code",
   "execution_count": 4,
   "outputs": [
    {
     "name": "stdout",
     "output_type": "stream",
     "text": [
      "[[291. 224.]\n",
      " [163. 348.]]\n"
     ]
    }
   ],
   "source": [
    "array = read_from_path()\n",
    "print(array)"
   ],
   "metadata": {
    "collapsed": false,
    "pycharm": {
     "name": "#%%\n"
    }
   }
  },
  {
   "cell_type": "code",
   "execution_count": 5,
   "outputs": [],
   "source": [
    "def plot_heatmap(cm, labels):\n",
    "    \"\"\"\n",
    "    plot the heatmap\n",
    "    \"\"\"\n",
    "    df_cm = pd.DataFrame(cm, index = [i for i in labels], columns = [i for i in labels])\n",
    "    plt.figure(figsize = (10,7))\n",
    "    sn.heatmap(df_cm.astype(int), annot=True)"
   ],
   "metadata": {
    "collapsed": false,
    "pycharm": {
     "name": "#%%\n"
    }
   }
  },
  {
   "cell_type": "code",
   "execution_count": 6,
   "outputs": [
    {
     "data": {
      "text/plain": "<Figure size 720x504 with 2 Axes>",
      "image/png": "[encoded data removed]"
     },
     "metadata": {
      "needs_background": "light"
     },
     "output_type": "display_data"
    }
   ],
   "source": [
    "plot_heatmap(array, labels_age if len(array) >= 6 else labels_gender)\n"
   ],
   "metadata": {
    "collapsed": false,
    "pycharm": {
     "name": "#%%\n"
    }
   }
  }
 ],
 "metadata": {
  "kernelspec": {
   "display_name": "Python 3",
   "language": "python",
   "name": "python3"
  },
  "language_info": {
   "codemirror_mode": {
    "name": "ipython",
    "version": 2
   },
   "file_extension": ".py",
   "mimetype": "text/x-python",
   "name": "python",
   "nbconvert_exporter": "python",
   "pygments_lexer": "ipython2",
   "version": "2.7.6"
  }
 },
 "nbformat": 4,
 "nbformat_minor": 0
}