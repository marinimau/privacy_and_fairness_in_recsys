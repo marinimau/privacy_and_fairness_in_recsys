{
 "cells": [
  {
   "cell_type": "markdown",
   "metadata": {},
   "source": [
    "# Extract best k classifications\n",
    "\n",
    "1. Data loading"
   ]
  },
  {
   "cell_type": "code",
   "execution_count": 26,
   "metadata": {
    "pycharm": {
     "name": "#%%\n"
    }
   },
   "outputs": [
    {
     "name": "stdout",
     "output_type": "stream",
     "text": [
      "         uid  movie_id      score\n",
      "0          1       595   3.688725\n",
      "1          1      2716   3.386360\n",
      "50         2      1233   8.252718\n",
      "51         2      1961   7.547615\n",
      "100        3      3175   8.103263\n",
      "...      ...       ...        ...\n",
      "301851  6038      1230   4.105670\n",
      "301900  6039      3061  34.424217\n",
      "301901  6039      1035  34.066547\n",
      "301950  6040      1221  56.839650\n",
      "301951  6040      1207  56.647106\n",
      "\n",
      "[12080 rows x 3 columns]\n"
     ]
    }
   ],
   "source": [
    "import pandas as pd\n",
    "import load_data\n",
    "\n",
    "k = 2\n",
    "\n",
    "# ratings\n",
    "recs_df = pd.read_csv('../recs/UserKNN.tsv', header=None, sep='\\t')\n",
    "recs_df.rename(columns={0: 'uid', 1: 'movie_id', 2: 'score', 3: 'timestamp'}, inplace=True)\n",
    "recs_df.set_index('uid')\n",
    "best_k = recs_df.groupby('uid').head(k)\n",
    "print(best_k)"
   ]
  }
 ],
 "metadata": {
  "kernelspec": {
   "display_name": "Python 3 (ipykernel)",
   "language": "python",
   "name": "python3"
  },
  "language_info": {
   "codemirror_mode": {
    "name": "ipython",
    "version": 3
   },
   "file_extension": ".py",
   "mimetype": "text/x-python",
   "name": "python",
   "nbconvert_exporter": "python",
   "pygments_lexer": "ipython3",
   "version": "3.8.7"
  }
 },
 "nbformat": 4,
 "nbformat_minor": 1
}